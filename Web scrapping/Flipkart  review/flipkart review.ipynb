{
 "cells": [
  {
   "cell_type": "markdown",
   "id": "55763b64",
   "metadata": {},
   "source": [
    "# Web Scrapping flipkart's products' review\n"
   ]
  },
  {
   "cell_type": "code",
   "execution_count": null,
   "id": "c1b3c146-f1d3-46f2-92dd-02fbb6aee910",
   "metadata": {
    "vscode": {
     "languageId": "python"
    }
   },
   "outputs": [],
   "source": [
    "from bs4 import BeautifulSoup\n",
    "from flask import request, render_template\n",
    "\n",
    "url = \"https://www.example.com\"  # replace with your URL\n",
    "\n",
    "\n",
    "\n"
   ]
  }
 ],
 "metadata": {
  "kernelspec": {
   "display_name": "",
   "name": ""
  },
  "language_info": {
   "name": ""
  }
 },
 "nbformat": 4,
 "nbformat_minor": 5
}
